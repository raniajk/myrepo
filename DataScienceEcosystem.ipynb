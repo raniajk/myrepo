{
 "cells": [
  {
   "cell_type": "markdown",
   "id": "dc4566a2",
   "metadata": {},
   "source": [
    "# Data Science Tools & Ecosystem"
   ]
  },
  {
   "cell_type": "markdown",
   "id": "2943cc17",
   "metadata": {},
   "source": [
    "In this Notebook, Data Science and Ecosystem are summerised."
   ]
  },
  {
   "cell_type": "markdown",
   "id": "42c23c1d",
   "metadata": {},
   "source": [
    "Some of the popular languages that Data scientist use are:\n",
    "1. Python\n",
    "2. R\n",
    "3. SQL\n",
    "4. Java .."
   ]
  },
  {
   "cell_type": "markdown",
   "id": "5d86b9fa",
   "metadata": {},
   "source": [
    "Some of the most commonly used libraries in Data science include:\n",
    "1. TensorFlow\n",
    "2. Sci-py\n",
    "3. NumPy\n",
    "4. Pandas .."
   ]
  },
  {
   "cell_type": "markdown",
   "id": "5efeb265",
   "metadata": {},
   "source": [
    " Data Science Tools\n",
    "----------------------------\n",
    "    NumPy\n",
    "    Matplotlib\n",
    "    Jupyter\n",
    "    Weka\n"
   ]
  },
  {
   "cell_type": "markdown",
   "id": "3d6d76f3",
   "metadata": {},
   "source": [
    "### Below are some examples of evaluating arithmetic operations in Python"
   ]
  },
  {
   "cell_type": "code",
   "execution_count": 3,
   "id": "7c504be9",
   "metadata": {},
   "outputs": [
    {
     "data": {
      "text/plain": [
       "17"
      ]
     },
     "execution_count": 3,
     "metadata": {},
     "output_type": "execute_result"
    }
   ],
   "source": [
    "## This a simple arithmetic expression to mutiply then add integers\n",
    "\n",
    "(3*4)+5"
   ]
  },
  {
   "cell_type": "code",
   "execution_count": 4,
   "id": "73a2a6ec",
   "metadata": {},
   "outputs": [
    {
     "data": {
      "text/plain": [
       "3.3333333333333335"
      ]
     },
     "execution_count": 4,
     "metadata": {},
     "output_type": "execute_result"
    }
   ],
   "source": [
    "## This will convert 200 minutes to hours by diving by 60\n",
    "\n",
    "200/60"
   ]
  },
  {
   "cell_type": "markdown",
   "id": "9c71799f",
   "metadata": {},
   "source": [
    "**Objectives**"
   ]
  },
  {
   "cell_type": "markdown",
   "id": "7f7702db",
   "metadata": {},
   "source": [
    "Languages in Data science,\n",
    "Libraries in Data science,\n",
    "Tools in Data science."
   ]
  },
  {
   "cell_type": "markdown",
   "id": "308c177d",
   "metadata": {},
   "source": [
    "## Author"
   ]
  },
  {
   "cell_type": "markdown",
   "id": "c0a5d58e",
   "metadata": {},
   "source": [
    "Raniya Deshmukh"
   ]
  },
  {
   "cell_type": "code",
   "execution_count": null,
   "id": "7ad8ab74",
   "metadata": {},
   "outputs": [],
   "source": []
  }
 ],
 "metadata": {
  "kernelspec": {
   "display_name": "Python 3 (ipykernel)",
   "language": "python",
   "name": "python3"
  },
  "language_info": {
   "codemirror_mode": {
    "name": "ipython",
    "version": 3
   },
   "file_extension": ".py",
   "mimetype": "text/x-python",
   "name": "python",
   "nbconvert_exporter": "python",
   "pygments_lexer": "ipython3",
   "version": "3.11.3"
  }
 },
 "nbformat": 4,
 "nbformat_minor": 5
}
